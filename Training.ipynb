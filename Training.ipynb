{
 "cells": [
  {
   "cell_type": "code",
   "execution_count": 1,
   "metadata": {
    "colab": {
     "base_uri": "https://localhost:8080/"
    },
    "id": "PTVZipFFvuPn",
    "outputId": "401290e3-dab5-47a5-a31d-da73865263a8"
   },
   "outputs": [],
   "source": [
    "!pip install -q sklearn #sklearn already installed in conda "
   ]
  },
  {
   "cell_type": "code",
   "execution_count": 2,
   "metadata": {
    "colab": {
     "base_uri": "https://localhost:8080/"
    },
    "id": "WxPS4Gk_TaMO",
    "outputId": "243fa586-9ec5-46a5-f6ef-c3f4f133212d"
   },
   "outputs": [
    {
     "name": "stderr",
     "output_type": "stream",
     "text": [
      "UsageError: Line magic function `%tensorflow_version` not found.\n"
     ]
    }
   ],
   "source": [
    "%tensorflow_version 2.x # this is specific to google collav only "
   ]
  },
  {
   "cell_type": "raw",
   "metadata": {},
   "source": [
    "steps followed \n",
    "- import the libraries  \n",
    "- load the dataset \n",
    "- explore the dateset with pyplot to understand it \n",
    "- create cateorical and numerical columns \n",
    "- for linear estimator make data as feature column"
   ]
  },
  {
   "cell_type": "code",
   "execution_count": 2,
   "metadata": {
    "colab": {
     "base_uri": "https://localhost:8080/"
    },
    "id": "aXMCs3LbW_zS",
    "outputId": "013d5cd4-376f-4f7d-cd57-83a56e39d73a"
   },
   "outputs": [
    {
     "name": "stdout",
     "output_type": "stream",
     "text": [
      "<module 'tensorflow._api.v2.version' from '/home/gurjeet/Applications/Anaconda/lib/python3.9/site-packages/tensorflow/_api/v2/version/__init__.py'>\n"
     ]
    }
   ],
   "source": [
    "from __future__ import absolute_import, division, print_function, unicode_literals\n",
    "import tensorflow as tf \n",
    "import numpy as np #multi dimensional calculations for matrices \n",
    "import pandas as pd #manipulate data sets \n",
    "import matplotlib.pyplot as plt #visualise data \n",
    "from IPython.display import clear_output #just to clear output \n",
    "from six.moves import urllib \n",
    "import tensorflow.compat.v2.feature_column as fc #required for linear regression\n",
    "print(tf.version)"
   ]
  },
  {
   "cell_type": "code",
   "execution_count": 4,
   "metadata": {
    "colab": {
     "base_uri": "https://localhost:8080/"
    },
    "id": "GHB_9RqFXEsQ",
    "outputId": "61fb1f30-3082-42fb-d54f-014268532586"
   },
   "outputs": [
    {
     "name": "stdout",
     "output_type": "stream",
     "text": [
      "tf.Tensor(3, shape=(), dtype=int32)\n",
      "tf.Tensor(\n",
      "[[[1]\n",
      "  [1]]\n",
      "\n",
      " [[1]\n",
      "  [1]]\n",
      "\n",
      " [[1]\n",
      "  [1]]], shape=(3, 2, 1), dtype=int64)\n"
     ]
    }
   ],
   "source": [
    "String = tf.Variable(\"Test value\", tf.string)\n",
    "RankVar = tf.Variable([\"Test value 1, Test value 2\"], tf.string)\n",
    "ShapeVar = tf.Variable([[[123]], [[567]], [[626]]], tf.string)\n",
    "print(tf.rank(ShapeVar))\n",
    "ShapeVar.shape\n",
    "print(tf.ones([3,2,1], tf.int64))"
   ]
  },
  {
   "cell_type": "code",
   "execution_count": 5,
   "metadata": {
    "colab": {
     "base_uri": "https://localhost:8080/"
    },
    "id": "VS8SFUj57vwb",
    "outputId": "bbb56d7b-850d-454a-d2e0-297397b30755"
   },
   "outputs": [
    {
     "name": "stdout",
     "output_type": "stream",
     "text": [
      "(627, 9)\n"
     ]
    },
    {
     "data": {
      "text/plain": [
       "0        male\n",
       "1      female\n",
       "2      female\n",
       "3      female\n",
       "4        male\n",
       "        ...  \n",
       "622      male\n",
       "623      male\n",
       "624    female\n",
       "625    female\n",
       "626      male\n",
       "Name: sex, Length: 627, dtype: object"
      ]
     },
     "execution_count": 5,
     "metadata": {},
     "output_type": "execute_result"
    }
   ],
   "source": [
    "#Load test data\n",
    "dftrain = pd.read_csv('https://storage.googleapis.com/tf-datasets/titanic/train.csv') # training data\n",
    "dfeval = pd.read_csv('https://storage.googleapis.com/tf-datasets/titanic/eval.csv') # testing data\n",
    "#pd.read_csv is a dataframe specific to pandas library \n",
    "# print(dftrain.head())\n",
    "#popping off survived column from dataframe to a different object for test and training data \n",
    "ytrain=dftrain.pop(\"survived\")\n",
    "yeval=dfeval.pop(\"survived\")\n",
    "print(dftrain.shape)\n",
    "dftrain.loc[0]\n",
    "dftrain[\"sex\"]"
   ]
  },
  {
   "cell_type": "code",
   "execution_count": 8,
   "metadata": {
    "colab": {
     "base_uri": "https://localhost:8080/",
     "height": 282
    },
    "id": "Q-fLwG9yb6TZ",
    "outputId": "c18e89b9-8d89-4152-ded4-b9da2bcb2d27"
   },
   "outputs": [
    {
     "data": {
      "text/plain": [
       "Text(0.5, 0, '% survive')"
      ]
     },
     "execution_count": 8,
     "metadata": {},
     "output_type": "execute_result"
    },
    {
     "data": {
      "image/png": "[encoded data removed]",
      "text/plain": [
       "<Figure size 432x288 with 1 Axes>"
      ]
     },
     "metadata": {
      "needs_background": "light"
     },
     "output_type": "display_data"
    }
   ],
   "source": [
    "dftrain.age.hist(bins=20)\n",
    "dftrain.sex.value_counts().plot(kind=\"barh\")\n",
    "dftrain[\"class\"].value_counts().plot(kind=\"barh\")\n",
    "pd.concat([dftrain, ytrain], axis=1).groupby('sex').survived.mean().plot(kind='barh').set_xlabel('% survive')"
   ]
  },
  {
   "cell_type": "code",
   "execution_count": 10,
   "metadata": {},
   "outputs": [
    {
     "name": "stdout",
     "output_type": "stream",
     "text": [
      "[VocabularyListCategoricalColumn(key='sex', vocabulary_list=('male', 'female'), dtype=tf.string, default_value=-1, num_oov_buckets=0), VocabularyListCategoricalColumn(key='n_siblings_spouses', vocabulary_list=(1, 0, 3, 4, 2, 5, 8), dtype=tf.int64, default_value=-1, num_oov_buckets=0), VocabularyListCategoricalColumn(key='parch', vocabulary_list=(0, 1, 2, 5, 3, 4), dtype=tf.int64, default_value=-1, num_oov_buckets=0), VocabularyListCategoricalColumn(key='class', vocabulary_list=('Third', 'First', 'Second'), dtype=tf.string, default_value=-1, num_oov_buckets=0), VocabularyListCategoricalColumn(key='deck', vocabulary_list=('unknown', 'C', 'G', 'A', 'B', 'D', 'F', 'E'), dtype=tf.string, default_value=-1, num_oov_buckets=0), VocabularyListCategoricalColumn(key='embark_town', vocabulary_list=('Southampton', 'Cherbourg', 'Queenstown', 'unknown'), dtype=tf.string, default_value=-1, num_oov_buckets=0), VocabularyListCategoricalColumn(key='alone', vocabulary_list=('n', 'y'), dtype=tf.string, default_value=-1, num_oov_buckets=0), NumericColumn(key='age', shape=(1,), default_value=None, dtype=tf.float32, normalizer_fn=None), NumericColumn(key='fare', shape=(1,), default_value=None, dtype=tf.float32, normalizer_fn=None)]\n"
     ]
    }
   ],
   "source": [
    "#dividing columns in categorical and numerical types for pandas to sort through it \n",
    "CATEGORICAL_COLUMNS=['sex', 'n_siblings_spouses', 'parch', 'class', 'deck',\n",
    "       'embark_town', 'alone']\n",
    "NUMERICAL_COLUMNS=['age', 'fare']\n",
    "\n",
    "#convert it to feature column \n",
    "feature_columns=[]  #feature column is fed to linear estimator \n",
    "#it is a numpy array\n",
    "\n",
    "#looping through categorical and numerical column to make a feature column \n",
    "for cname in CATEGORICAL_COLUMNS:\n",
    "    vocabulary=dftrain[cname].unique() #get unique values of particular column as list\n",
    "    feature_columns.append(tf.feature_column.categorical_column_with_vocabulary_list(cname, vocabulary))\n",
    "    \n",
    "for cname in NUMERICAL_COLUMNS:\n",
    "    feature_columns.append(tf.feature_column.numeric_column(cname, dtype=tf.float32))\n",
    "\n",
    "print(feature_columns)"
   ]
  },
  {
   "cell_type": "raw",
   "metadata": {},
   "source": [
    "- Batches/Size: Data will now be passed in batches to avoid filling up the ram. Like batch of 32 records at once \n",
    "- Epoch: is how many times the model is going to see the same data but in a different order\n",
    "- Sending the same data to model too many times can train system but it will make difficult for system to resolve new data points \n",
    "\n",
    "**Important note \n",
    "\n",
    "- Input Function:"
   ]
  }
 ],
 "metadata": {
  "colab": {
   "provenance": []
  },
  "kernelspec": {
   "display_name": "Python 3 (ipykernel)",
   "language": "python",
   "name": "python3"
  },
  "language_info": {
   "codemirror_mode": {
    "name": "ipython",
    "version": 3
   },
   "file_extension": ".py",
   "mimetype": "text/x-python",
   "name": "python",
   "nbconvert_exporter": "python",
   "pygments_lexer": "ipython3",
   "version": "3.9.12"
  }
 },
 "nbformat": 4,
 "nbformat_minor": 4
}
